{
 "cells": [
  {
   "cell_type": "markdown",
   "id": "1cd05c3c",
   "metadata": {},
   "source": "## Initial loading of libraries and dataset"
  },
  {
   "cell_type": "code",
   "execution_count": 1,
   "id": "98030384",
   "metadata": {},
   "outputs": [],
   "source": [
    "# Connect the necessary libraries\n",
    "import numpy as np\n",
    "import pandas as pd\n",
    "import tensorflow as tf\n",
    "import tensorflow_datasets as tfds\n",
    "from sklearn.preprocessing import LabelEncoder\n",
    "from tensorflow.keras.models import Sequential\n",
    "from tensorflow.keras.layers import Embedding, LSTM, Dense, Dropout\n",
    "from tensorflow.keras.preprocessing.text import Tokenizer\n",
    "from tensorflow.keras.preprocessing.sequence import pad_sequences\n",
    "from sklearn.model_selection import train_test_split"
   ]
  },
  {
   "cell_type": "code",
   "execution_count": 2,
   "id": "4cdc80a1",
   "metadata": {},
   "outputs": [],
   "source": [
    "# Load Yelp Dataset\n",
    "data = tfds.load(\"yelp_polarity_reviews\")\n",
    "train_data = data[\"train\"]\n",
    "test_data = data[\"test\"]"
   ]
  },
  {
   "cell_type": "code",
   "execution_count": 3,
   "id": "f6442f1d",
   "metadata": {},
   "outputs": [],
   "source": [
    "# Convert data to lists\n",
    "train, test = [], []\n",
    "for dataPoint in data[\"train\"]:\n",
    "    train.append(dataPoint)\n",
    "for dataPoint in data[\"test\"]:\n",
    "    test.append(dataPoint)"
   ]
  },
  {
   "cell_type": "code",
   "execution_count": 4,
   "id": "64bcc089",
   "metadata": {},
   "outputs": [],
   "source": [
    "# Separate texts and labels for training data\n",
    "trainX, trainY = [], []\n",
    "for dataPoint in train:\n",
    "    trainX.append(dataPoint[\"text\"].numpy().decode())\n",
    "    trainY.append(int(dataPoint[\"label\"].numpy()))"
   ]
  },
  {
   "cell_type": "code",
   "execution_count": 5,
   "id": "c08ab70f",
   "metadata": {},
   "outputs": [],
   "source": [
    "# Separate texts and labels for test data\n",
    "testX, testY = [], []\n",
    "for dataPoint in test:\n",
    "    testX.append(dataPoint[\"text\"].numpy().decode())\n",
    "    testY.append(int(dataPoint[\"label\"].numpy()))"
   ]
  },
  {
   "cell_type": "code",
   "execution_count": 6,
   "id": "23bd664b",
   "metadata": {},
   "outputs": [],
   "source": [
    "# Text tokenization\n",
    "tokenizer = Tokenizer(num_words=10000)  # Maximum number of words\n",
    "tokenizer.fit_on_texts(trainX)  # Train tokenizer on training data\n",
    "train_sequences = tokenizer.texts_to_sequences(trainX)\n",
    "test_sequences = tokenizer.texts_to_sequences(testX)"
   ]
  },
  {
   "cell_type": "code",
   "execution_count": 7,
   "id": "ce637794",
   "metadata": {},
   "outputs": [],
   "source": [
    "# Pad sequences to equal length\n",
    "max_length = 100\n",
    "X_train = pad_sequences(train_sequences, maxlen=max_length)\n",
    "X_test = pad_sequences(test_sequences, maxlen=max_length)"
   ]
  },
  {
   "cell_type": "code",
   "execution_count": 8,
   "id": "4da1a80f",
   "metadata": {},
   "outputs": [],
   "source": [
    "# Use LabelEncoder to convert labels to numbers (0 or 1)\n",
    "encoder = LabelEncoder()\n",
    "y_train = encoder.fit_transform(trainY)\n",
    "y_test = encoder.transform(testY)"
   ]
  },
  {
   "cell_type": "markdown",
   "id": "2332bdb9",
   "metadata": {},
   "source": "## Working with neural network"
  },
  {
   "cell_type": "code",
   "execution_count": 9,
   "id": "90aaf6db",
   "metadata": {},
   "outputs": [
    {
     "name": "stderr",
     "output_type": "stream",
     "text": [
      "C:\\Users\\User\\anaconda3\\lib\\site-packages\\keras\\src\\layers\\core\\embedding.py:90: UserWarning: Argument `input_length` is deprecated. Just remove it.\n",
      "  warnings.warn(\n"
     ]
    }
   ],
   "source": [
    "# Create LSTM model\n",
    "model = Sequential()\n",
    "model.add(Embedding(input_dim=10000, output_dim=128, input_length=max_length))\n",
    "model.add(LSTM(100, dropout=0.2, recurrent_dropout=0.2))\n",
    "model.add(Dense(1, activation='sigmoid'))  # For binary classification (positive/negative review)"
   ]
  },
  {
   "cell_type": "code",
   "execution_count": 10,
   "id": "debf839e",
   "metadata": {},
   "outputs": [
    {
     "data": {
      "text/html": [
       "<pre style=\"white-space:pre;overflow-x:auto;line-height:normal;font-family:Menlo,'DejaVu Sans Mono',consolas,'Courier New',monospace\"><span style=\"font-weight: bold\">Model: \"sequential\"</span>\n",
       "</pre>\n"
      ],
      "text/plain": [
       "\u001B[1mModel: \"sequential\"\u001B[0m\n"
      ]
     },
     "metadata": {},
     "output_type": "display_data"
    },
    {
     "data": {
      "text/html": [
       "<pre style=\"white-space:pre;overflow-x:auto;line-height:normal;font-family:Menlo,'DejaVu Sans Mono',consolas,'Courier New',monospace\">┏━━━━━━━━━━━━━━━━━━━━━━━━━━━━━━━━━━━━━━┳━━━━━━━━━━━━━━━━━━━━━━━━━━━━━┳━━━━━━━━━━━━━━━━━┓\n",
       "┃<span style=\"font-weight: bold\"> Layer (type)                         </span>┃<span style=\"font-weight: bold\"> Output Shape                </span>┃<span style=\"font-weight: bold\">         Param # </span>┃\n",
       "┡━━━━━━━━━━━━━━━━━━━━━━━━━━━━━━━━━━━━━━╇━━━━━━━━━━━━━━━━━━━━━━━━━━━━━╇━━━━━━━━━━━━━━━━━┩\n",
       "│ embedding (<span style=\"color: #0087ff; text-decoration-color: #0087ff\">Embedding</span>)                │ ?                           │     <span style=\"color: #00af00; text-decoration-color: #00af00\">0</span> (unbuilt) │\n",
       "├──────────────────────────────────────┼─────────────────────────────┼─────────────────┤\n",
       "│ lstm (<span style=\"color: #0087ff; text-decoration-color: #0087ff\">LSTM</span>)                          │ ?                           │     <span style=\"color: #00af00; text-decoration-color: #00af00\">0</span> (unbuilt) │\n",
       "├──────────────────────────────────────┼─────────────────────────────┼─────────────────┤\n",
       "│ dense (<span style=\"color: #0087ff; text-decoration-color: #0087ff\">Dense</span>)                        │ ?                           │     <span style=\"color: #00af00; text-decoration-color: #00af00\">0</span> (unbuilt) │\n",
       "└──────────────────────────────────────┴─────────────────────────────┴─────────────────┘\n",
       "</pre>\n"
      ],
      "text/plain": [
       "┏━━━━━━━━━━━━━━━━━━━━━━━━━━━━━━━━━━━━━━┳━━━━━━━━━━━━━━━━━━━━━━━━━━━━━┳━━━━━━━━━━━━━━━━━┓\n",
       "┃\u001B[1m \u001B[0m\u001B[1mLayer (type)                        \u001B[0m\u001B[1m \u001B[0m┃\u001B[1m \u001B[0m\u001B[1mOutput Shape               \u001B[0m\u001B[1m \u001B[0m┃\u001B[1m \u001B[0m\u001B[1m        Param #\u001B[0m\u001B[1m \u001B[0m┃\n",
       "┡━━━━━━━━━━━━━━━━━━━━━━━━━━━━━━━━━━━━━━╇━━━━━━━━━━━━━━━━━━━━━━━━━━━━━╇━━━━━━━━━━━━━━━━━┩\n",
       "│ embedding (\u001B[38;5;33mEmbedding\u001B[0m)                │ ?                           │     \u001B[38;5;34m0\u001B[0m (unbuilt) │\n",
       "├──────────────────────────────────────┼─────────────────────────────┼─────────────────┤\n",
       "│ lstm (\u001B[38;5;33mLSTM\u001B[0m)                          │ ?                           │     \u001B[38;5;34m0\u001B[0m (unbuilt) │\n",
       "├──────────────────────────────────────┼─────────────────────────────┼─────────────────┤\n",
       "│ dense (\u001B[38;5;33mDense\u001B[0m)                        │ ?                           │     \u001B[38;5;34m0\u001B[0m (unbuilt) │\n",
       "└──────────────────────────────────────┴─────────────────────────────┴─────────────────┘\n"
      ]
     },
     "metadata": {},
     "output_type": "display_data"
    },
    {
     "data": {
      "text/html": [
       "<pre style=\"white-space:pre;overflow-x:auto;line-height:normal;font-family:Menlo,'DejaVu Sans Mono',consolas,'Courier New',monospace\"><span style=\"font-weight: bold\"> Total params: </span><span style=\"color: #00af00; text-decoration-color: #00af00\">0</span> (0.00 B)\n",
       "</pre>\n"
      ],
      "text/plain": [
       "\u001B[1m Total params: \u001B[0m\u001B[38;5;34m0\u001B[0m (0.00 B)\n"
      ]
     },
     "metadata": {},
     "output_type": "display_data"
    },
    {
     "data": {
      "text/html": [
       "<pre style=\"white-space:pre;overflow-x:auto;line-height:normal;font-family:Menlo,'DejaVu Sans Mono',consolas,'Courier New',monospace\"><span style=\"font-weight: bold\"> Trainable params: </span><span style=\"color: #00af00; text-decoration-color: #00af00\">0</span> (0.00 B)\n",
       "</pre>\n"
      ],
      "text/plain": [
       "\u001B[1m Trainable params: \u001B[0m\u001B[38;5;34m0\u001B[0m (0.00 B)\n"
      ]
     },
     "metadata": {},
     "output_type": "display_data"
    },
    {
     "data": {
      "text/html": [
       "<pre style=\"white-space:pre;overflow-x:auto;line-height:normal;font-family:Menlo,'DejaVu Sans Mono',consolas,'Courier New',monospace\"><span style=\"font-weight: bold\"> Non-trainable params: </span><span style=\"color: #00af00; text-decoration-color: #00af00\">0</span> (0.00 B)\n",
       "</pre>\n"
      ],
      "text/plain": [
       "\u001B[1m Non-trainable params: \u001B[0m\u001B[38;5;34m0\u001B[0m (0.00 B)\n"
      ]
     },
     "metadata": {},
     "output_type": "display_data"
    }
   ],
   "source": [
    "# Compile the model\n",
    "model.compile(loss='binary_crossentropy', optimizer='adam', metrics=['accuracy'])\n",
    "model.summary()"
   ]
  },
  {
   "cell_type": "code",
   "execution_count": 11,
   "id": "b74e9ecc",
   "metadata": {},
   "outputs": [
    {
     "name": "stdout",
     "output_type": "stream",
     "text": [
      "Epoch 1/5\n",
      "\u001B[1m8750/8750\u001B[0m \u001B[32m━━━━━━━━━━━━━━━━━━━━\u001B[0m\u001B[37m\u001B[0m \u001B[1m233s\u001B[0m 27ms/step - accuracy: 0.8915 - loss: 0.2640 - val_accuracy: 0.9392 - val_loss: 0.1564\n",
      "Epoch 2/5\n",
      "\u001B[1m8750/8750\u001B[0m \u001B[32m━━━━━━━━━━━━━━━━━━━━\u001B[0m\u001B[37m\u001B[0m \u001B[1m236s\u001B[0m 27ms/step - accuracy: 0.9436 - loss: 0.1456 - val_accuracy: 0.9478 - val_loss: 0.1370\n",
      "Epoch 3/5\n",
      "\u001B[1m8750/8750\u001B[0m \u001B[32m━━━━━━━━━━━━━━━━━━━━\u001B[0m\u001B[37m\u001B[0m \u001B[1m221s\u001B[0m 25ms/step - accuracy: 0.9538 - loss: 0.1209 - val_accuracy: 0.9492 - val_loss: 0.1333\n",
      "Epoch 4/5\n",
      "\u001B[1m8750/8750\u001B[0m \u001B[32m━━━━━━━━━━━━━━━━━━━━\u001B[0m\u001B[37m\u001B[0m \u001B[1m219s\u001B[0m 25ms/step - accuracy: 0.9603 - loss: 0.1045 - val_accuracy: 0.9488 - val_loss: 0.1388\n",
      "Epoch 5/5\n",
      "\u001B[1m8750/8750\u001B[0m \u001B[32m━━━━━━━━━━━━━━━━━━━━\u001B[0m\u001B[37m\u001B[0m \u001B[1m219s\u001B[0m 25ms/step - accuracy: 0.9653 - loss: 0.0922 - val_accuracy: 0.9493 - val_loss: 0.1439\n"
     ]
    }
   ],
   "source": [
    "# Train the model\n",
    "history = model.fit(X_train, y_train, epochs=5, batch_size=64, validation_data=(X_test, y_test))"
   ]
  },
  {
   "cell_type": "code",
   "execution_count": 12,
   "id": "e543e305",
   "metadata": {},
   "outputs": [
    {
     "name": "stderr",
     "output_type": "stream",
     "text": [
      "WARNING:absl:You are saving your model as an HDF5 file via `model.save()` or `keras.saving.save_model(model)`. This file format is considered legacy. We recommend using instead the native Keras format, e.g. `model.save('my_model.keras')` or `keras.saving.save_model(model, 'my_model.keras')`. \n"
     ]
    }
   ],
   "source": [
    "# Save the model\n",
    "MODEL_PATH = \"lstm_model.h5\"\n",
    "model.save(MODEL_PATH)"
   ]
  },
  {
   "cell_type": "code",
   "execution_count": 14,
   "id": "a79b87f9",
   "metadata": {},
   "outputs": [
    {
     "data": {
      "image/png": "[encoded data removed]",
      "text/plain": [
       "<Figure size 640x480 with 2 Axes>"
      ]
     },
     "metadata": {},
     "output_type": "display_data"
    }
   ],
   "source": [
    "from matplotlib import pyplot as plt\n",
    "\n",
    "# Loss plot\n",
    "plt.subplot(1, 2, 1)\n",
    "plt.title('Loss')\n",
    "plt.plot(history.history['loss'], label=\"Train\")\n",
    "plt.plot(history.history['val_loss'], label=\"Validation\")\n",
    "plt.legend()\n",
    "\n",
    "# Accuracy plot\n",
    "plt.subplot(1, 2, 2)\n",
    "plt.title('Accuracy')\n",
    "plt.plot(history.history['accuracy'], label=\"Train\")\n",
    "plt.plot(history.history['val_accuracy'], label=\"Validation\")\n",
    "plt.legend()\n",
    "\n",
    "# Display plots\n",
    "plt.tight_layout()\n",
    "plt.show()"
   ]
  },
  {
   "cell_type": "code",
   "execution_count": 15,
   "id": "adf18817",
   "metadata": {},
   "outputs": [],
   "source": [
    "# Example new sentences for testing\n",
    "new_sentences = [\n",
    "    \"This product is amazing! I love it.\",\n",
    "    \"Worst purchase I have ever made. Very disappointed.\"\n",
    "]"
   ]
  },
  {
   "cell_type": "code",
   "execution_count": 16,
   "id": "ae7296c5",
   "metadata": {},
   "outputs": [],
   "source": [
    "# Tokenize new sentences\n",
    "new_sequences = tokenizer.texts_to_sequences(new_sentences)"
   ]
  },
  {
   "cell_type": "code",
   "execution_count": 17,
   "id": "1e1c6051",
   "metadata": {},
   "outputs": [],
   "source": [
    "# Pad sequences to equal length\n",
    "new_data = pad_sequences(new_sequences, maxlen=max_length)"
   ]
  },
  {
   "cell_type": "code",
   "execution_count": 18,
   "id": "a356bf38",
   "metadata": {},
   "outputs": [
    {
     "name": "stdout",
     "output_type": "stream",
     "text": [
      "\u001B[1m1/1\u001B[0m \u001B[32m━━━━━━━━━━━━━━━━━━━━\u001B[0m\u001B[37m\u001B[0m \u001B[1m0s\u001B[0m 99ms/step\n"
     ]
    }
   ],
   "source": [
    "# Predict on new data\n",
    "predictions = model.predict(new_data)"
   ]
  },
  {
   "cell_type": "code",
   "execution_count": 20,
   "id": "77f6c422",
   "metadata": {},
   "outputs": [
    {
     "name": "stdout",
     "output_type": "stream",
     "text": [
      "Sentence: This product is amazing! I love it.\n",
      "Prediction: positive\n",
      "\n",
      "Sentence: Worst purchase I have ever made. Very disappointed.\n",
      "Prediction: negative\n",
      "\n"
     ]
    }
   ],
   "source": [
    "# Display results\n",
    "for sentence, prediction in zip(new_sentences, predictions):\n",
    "    sentiment = \"positive\" if prediction > 0.5 else \"negative\"\n",
    "    print(f\"Sentence: {sentence}\")\n",
    "    print(f\"Prediction: {sentiment}\\n\")"
   ]
  }
 ],
 "metadata": {
  "kernelspec": {
   "display_name": "Python 3 (ipykernel)",
   "language": "python",
   "name": "python3"
  },
  "language_info": {
   "codemirror_mode": {
    "name": "ipython",
    "version": 3
   },
   "file_extension": ".py",
   "mimetype": "text/x-python",
   "name": "python",
   "nbconvert_exporter": "python",
   "pygments_lexer": "ipython3",
   "version": "3.10.9"
  }
 },
 "nbformat": 4,
 "nbformat_minor": 5
}
